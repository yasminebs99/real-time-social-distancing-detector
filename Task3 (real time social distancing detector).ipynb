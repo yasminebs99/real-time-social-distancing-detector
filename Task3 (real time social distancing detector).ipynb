{
 "cells": [
  {
   "cell_type": "markdown",
   "id": "53765fbe",
   "metadata": {},
   "source": [
    "### Import Libraries"
   ]
  },
  {
   "cell_type": "code",
   "execution_count": 50,
   "id": "fa43270c",
   "metadata": {},
   "outputs": [],
   "source": [
    "import cv2\n",
    "import numpy as np"
   ]
  },
  {
   "cell_type": "markdown",
   "id": "7e10a843",
   "metadata": {},
   "source": [
    "### Load YOLO"
   ]
  },
  {
   "cell_type": "code",
   "execution_count": 68,
   "id": "5e325b6c",
   "metadata": {},
   "outputs": [],
   "source": [
    "net = cv2.dnn.readNet(\"yolov3.weights\", \"yolov3.cfg\")\n",
    "layer_names = net.getLayerNames()\n",
    "#print('layer_names',layer_names)\n",
    "output_layers = [layer_names[i - 1] for i in net.getUnconnectedOutLayers()]"
   ]
  },
  {
   "cell_type": "markdown",
   "id": "bb6f3d8f",
   "metadata": {},
   "source": [
    "### Load COCO classes"
   ]
  },
  {
   "cell_type": "code",
   "execution_count": 69,
   "id": "e5fd862d",
   "metadata": {},
   "outputs": [],
   "source": [
    "with open(\"coco.names\", \"r\") as f:\n",
    "    classes = [line.strip() for line in f.readlines()]"
   ]
  },
  {
   "cell_type": "markdown",
   "id": "a29dab6f",
   "metadata": {},
   "source": [
    "### Image preparing"
   ]
  },
  {
   "cell_type": "code",
   "execution_count": 70,
   "id": "520dc974",
   "metadata": {},
   "outputs": [],
   "source": [
    "conf_threshold1=0.5\n",
    "distance_threshold = 10"
   ]
  },
  {
   "cell_type": "code",
   "execution_count": 71,
   "id": "1ca24e99",
   "metadata": {},
   "outputs": [],
   "source": [
    "image = cv2.imread(\"distance img.jpg\") \n",
    "height, width, channels = image.shape"
   ]
  },
  {
   "cell_type": "code",
   "execution_count": 72,
   "id": "41824651",
   "metadata": {},
   "outputs": [],
   "source": [
    "blob = cv2.dnn.blobFromImage(image, 0.00392, (416, 416), (0, 0, 0), True, crop=False)\n",
    "net.setInput(blob)\n",
    "outs = net.forward(output_layers)"
   ]
  },
  {
   "cell_type": "markdown",
   "id": "cbdd682d",
   "metadata": {},
   "source": [
    "### Detect the objects in the image"
   ]
  },
  {
   "cell_type": "code",
   "execution_count": 73,
   "id": "e72aad7d",
   "metadata": {},
   "outputs": [],
   "source": [
    "boxes = []\n",
    "confidences = []\n",
    "class_ids = []"
   ]
  },
  {
   "cell_type": "code",
   "execution_count": 74,
   "id": "287a82c9",
   "metadata": {},
   "outputs": [],
   "source": [
    "\n",
    "\n",
    "for out in outs:\n",
    "    for detection in out:\n",
    "        scores = detection[5:]\n",
    "        class_id = np.argmax(scores)\n",
    "        confidence = scores[class_id]\n",
    "        #print('confidence',confidence)\n",
    "        if confidence > conf_threshold1 and class_id == 0:  # 0 is the class id for 'person'\n",
    "            # Object detected\n",
    "            center_x = int(detection[0] * width)\n",
    "            center_y = int(detection[1] * height)\n",
    "            w = int(detection[2] * width)\n",
    "            h = int(detection[3] * height)\n",
    "\n",
    "            # Rectangle coordinates\n",
    "            x = int(center_x - w / 2)\n",
    "            y = int(center_y - h / 2)\n",
    "\n",
    "            boxes.append([x, y, w, h])\n",
    "            confidences.append(float(confidence))\n",
    "            #print('confidences',len(confidences))\n",
    "            class_ids.append(class_id)"
   ]
  },
  {
   "cell_type": "code",
   "execution_count": 75,
   "id": "c49ce655",
   "metadata": {},
   "outputs": [],
   "source": [
    "indexes = cv2.dnn.NMSBoxes(boxes, confidences, conf_threshold1, 0.4)\n",
    "#indexes = cv2.dnn.NMSBoxes(boxes, confidences,conf_threshold1,nms_threshold=0)\n",
    "#if len(indexes) > 0:\n",
    "for i in indexes:\n",
    "        x, y, w, h = boxes[i]\n",
    "        cv2.rectangle(image, (x, y), (x + w, y + h), (0, 255, 0), 2)\n",
    "#print('indexes',indexes)\n",
    "#print('boxes',boxes)\n",
    "#print('indexes',len(indexes))\n",
    "#print('boxes',len(boxes))"
   ]
  },
  {
   "cell_type": "markdown",
   "id": "b64751bc",
   "metadata": {},
   "source": [
    "### calculate distance"
   ]
  },
  {
   "cell_type": "code",
   "execution_count": 76,
   "id": "06062498",
   "metadata": {},
   "outputs": [],
   "source": [
    "def calculate_centroid(bbox):\n",
    "  x, y, w, h = bbox\n",
    "  centroid_x = int(x + (w / 2))\n",
    "  centroid_y = int(y + (h / 2))\n",
    "  return (centroid_x, centroid_y)"
   ]
  },
  {
   "cell_type": "code",
   "execution_count": 77,
   "id": "601a6765",
   "metadata": {},
   "outputs": [],
   "source": [
    "def get_all_centroids(boxes):\n",
    "  centroids = []\n",
    "  for bbox in boxes:\n",
    "    centroid = calculate_centroid(bbox)  # Assuming 'calculate_centroid' is defined\n",
    "    centroids.append(centroid)\n",
    "  return centroids"
   ]
  },
  {
   "cell_type": "code",
   "execution_count": 78,
   "id": "fef90479",
   "metadata": {},
   "outputs": [],
   "source": [
    "def calculate_all_distances(centroids):\n",
    "  distances = {}\n",
    "  for i, centroid1 in enumerate(centroids):\n",
    "    for j, centroid2 in enumerate(centroids):\n",
    "      # Skip calculating distance for the same person (i == j)\n",
    "      if i != j:\n",
    "        distance = cv2.norm(np.array(centroid1), np.array(centroid2), cv2.NORM_L2)\n",
    "        distances[(i, j)] = distance\n",
    "  return distances"
   ]
  },
  {
   "cell_type": "code",
   "execution_count": 79,
   "id": "6b6ff198",
   "metadata": {},
   "outputs": [],
   "source": [
    "D=calculate_all_distances(get_all_centroids(boxes))"
   ]
  },
  {
   "cell_type": "code",
   "execution_count": 80,
   "id": "94f490b0",
   "metadata": {},
   "outputs": [],
   "source": [
    "C=get_all_centroids(boxes)"
   ]
  },
  {
   "cell_type": "code",
   "execution_count": 81,
   "id": "db23190a",
   "metadata": {},
   "outputs": [],
   "source": [
    "tolerance=50\n",
    "for (i, j), distance in D.items():\n",
    "    if abs(C[i][0] - C[j][0]) <= tolerance and distance < distance_threshold:\n",
    "      # People are close neighbors and violate social distancing\n",
    "      centroid1, centroid2 = C[i], C[j]\n",
    "      # Calculate midpoint between centroids\n",
    "      midpoint_x = int((centroid1[0] + centroid2[0]) / 2)\n",
    "      midpoint_y = int((centroid1[1] + centroid2[1]) / 2- 0.7 * 10)\n",
    "      text = f\"{distance:.2f}\"  # Format distance to 2 decimal places\n",
    "       # Adjust text position based on line direction (optional)\n",
    "      if centroid1[0] < centroid2[0]:  # Line from left to right\n",
    "        text_x = midpoint_x + 5  # Adjust horizontal offset\n",
    "      else:\n",
    "        text_x = midpoint_x - (len(text) * 0.7 * 8)  # Adjust for text width\n",
    " \n",
    "      # Draw text with formatted distance and violation status\n",
    "           #text += \" (TOO CLOSE)\"  # Violation message for close proximity\n",
    "      color = (0, 0, 255)  # Red for violation\n",
    "      #image_with_line = cv2.line(image, centroid1, centroid2, color, 2)\n",
    "      cv2.putText(image, text, (midpoint_x, midpoint_y - 5), cv2.FONT_HERSHEY_SIMPLEX,\n",
    "                  0.7, color, 2)  # Adjust font size and position as needed\n"
   ]
  },
  {
   "cell_type": "code",
   "execution_count": 82,
   "id": "22bd4cd2",
   "metadata": {},
   "outputs": [],
   "source": [
    "cv2.imshow(\"Image with Distances\", image)\n",
    "cv2.waitKey(0)\n",
    "cv2.destroyAllWindows()"
   ]
  },
  {
   "cell_type": "code",
   "execution_count": null,
   "id": "9c25f9ff",
   "metadata": {},
   "outputs": [],
   "source": []
  },
  {
   "cell_type": "code",
   "execution_count": null,
   "id": "76045195",
   "metadata": {},
   "outputs": [],
   "source": []
  },
  {
   "cell_type": "code",
   "execution_count": null,
   "id": "e22ea553",
   "metadata": {},
   "outputs": [],
   "source": []
  },
  {
   "cell_type": "code",
   "execution_count": null,
   "id": "650a67fc",
   "metadata": {},
   "outputs": [],
   "source": []
  },
  {
   "cell_type": "code",
   "execution_count": null,
   "id": "7a0e82d2",
   "metadata": {},
   "outputs": [],
   "source": []
  },
  {
   "cell_type": "code",
   "execution_count": null,
   "id": "b01dcdb7",
   "metadata": {},
   "outputs": [],
   "source": []
  }
 ],
 "metadata": {
  "kernelspec": {
   "display_name": "Python 3 (ipykernel)",
   "language": "python",
   "name": "python3"
  },
  "language_info": {
   "codemirror_mode": {
    "name": "ipython",
    "version": 3
   },
   "file_extension": ".py",
   "mimetype": "text/x-python",
   "name": "python",
   "nbconvert_exporter": "python",
   "pygments_lexer": "ipython3",
   "version": "3.9.7"
  }
 },
 "nbformat": 4,
 "nbformat_minor": 5
}
